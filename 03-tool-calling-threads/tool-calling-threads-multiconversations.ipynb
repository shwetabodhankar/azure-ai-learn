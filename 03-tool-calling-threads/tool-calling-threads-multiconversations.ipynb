{
 "cells": [
  {
   "cell_type": "markdown",
   "id": "ce36166a",
   "metadata": {},
   "source": [
    "# Tool Calling with Agents and using Threads\n",
    "\n",
    "In this sample we will be creating agents and use a tool (function) to provide answers to questions. We will also be creating a thread and then doing a follow-up with the agent to ask for more information.\n",
    "\n",
    "You should have the following two environment variables already created and initialized:\n",
    "\n",
    "* `AZURE_AI_PROJECT_ENDPOINT`: Your Azure AI project endpoint\n",
    "* `AZURE_AI_MODEL_DEPLOYMENT_NAME`: The name of your model deployment"
   ]
  },
  {
   "cell_type": "code",
   "execution_count": 1,
   "id": "760c4d33",
   "metadata": {},
   "outputs": [
    {
     "name": "stdout",
     "output_type": "stream",
     "text": [
      "Project endpoint: https://aifoundryaveva.services.ai.azure.com/api/projects/firstProject\n",
      "Deployment name: gpt-4o\n"
     ]
    }
   ],
   "source": [
    "import asyncio\n",
    "import os\n",
    "from random import randint\n",
    "from agent_framework import ChatAgent\n",
    "from agent_framework.azure import AzureAIAgentClient\n",
    "from azure.identity.aio import AzureCliCredential\n",
    "\n",
    "project_endpoint = os.environ.get('AZURE_AI_PROJECT_ENDPOINT')\n",
    "model_name = os.environ.get('AZURE_AI_MODEL_DEPLOYMENT_NAME')\n",
    "\n",
    "print(f\"Project endpoint: {project_endpoint}\")\n",
    "print(f\"Deployment name: {model_name}\")"
   ]
  },
  {
   "cell_type": "code",
   "execution_count": 2,
   "id": "b1251da9",
   "metadata": {},
   "outputs": [],
   "source": [
    "async def main():\n",
    "    credential = AzureCliCredential()\n",
    "    chat_client = AzureAIAgentClient(async_credential=credential)\n",
    "    agent = ChatAgent(chat_client, name=\"Jokes Teller\",\n",
    "                instructions=\"You are a funny AI Agent that can tell jokes.\"\n",
    "            )\n",
    "                                                             \n",
    "    thread1 = agent.get_new_thread()\n",
    "    thread2 = agent.get_new_thread()\n",
    "\n",
    "    result1 = await agent.run(\"Tell me a joke about a pirate.\", thread=thread1)\n",
    "    print(result1.text)\n",
    "\n",
    "    result2 = await agent.run(\"Tell me a joke about a robot.\", thread=thread2)\n",
    "    print(result2.text)\n",
    "\n",
    "    result3 = await agent.run(\"Now add some emojis to the joke and tell it in the voice of a pirate's parrot.\", thread=thread1)\n",
    "    print(result3.text)\n",
    "\n",
    "    result4 = await agent.run(\"Now add some emojis to the joke and tell it in the voice of a robot.\", thread=thread2)\n",
    "    print(result4.text)\n",
    "\n",
    "    #await chat_client.close()\n",
    "    "
   ]
  },
  {
   "cell_type": "code",
   "execution_count": 3,
   "id": "dfba3119",
   "metadata": {},
   "outputs": [
    {
     "name": "stdout",
     "output_type": "stream",
     "text": [
      "Why don’t pirates take a shower before they walk the plank?  \n",
      "\n",
      "Because they’ll just wash up on shore later! 🏴‍☠️🛳️\n"
     ]
    },
    {
     "name": "stderr",
     "output_type": "stream",
     "text": [
      "[2025-10-29 00:51:03 - c:\\Aveva\\Samples\\azure-ai-learn\\.venv\\Lib\\site-packages\\agent_framework\\_clients.py:609 - WARNING] When conversation_id is set, store must be True for service-managed threads. Automatically setting store=True.\n"
     ]
    },
    {
     "name": "stdout",
     "output_type": "stream",
     "text": [
      "Sure! Here's one for you:\n",
      "\n",
      "Why did the robot go on a diet?\n",
      "\n",
      "Because he had a byte problem! 🤖🍔\n"
     ]
    },
    {
     "name": "stderr",
     "output_type": "stream",
     "text": [
      "[2025-10-29 00:51:06 - c:\\Aveva\\Samples\\azure-ai-learn\\.venv\\Lib\\site-packages\\agent_framework\\_clients.py:609 - WARNING] When conversation_id is set, store must be True for service-managed threads. Automatically setting store=True.\n"
     ]
    },
    {
     "name": "stdout",
     "output_type": "stream",
     "text": [
      "**\"Sqwaaawk! Why don't pirates 🏴‍☠️ take a shower 🛁 before walkin' the plank?! 🪝\"**\n",
      "\n",
      "**\"Because they'll just WASH UP 🌊 on shore later! SQUAWK! 🦜😂\"**\n",
      "💡🤖 *BEEP BOOP* Processing… joke initiated… *BZZZT*  \n",
      "\n",
      "Why did I—err—I mean, the robot, go on a diet? 🍽️⚙️\n",
      "\n",
      "Because I had a *BYYYYYYTE* problem! 🖥️💻🛠️ *HAHA…WHEEEEZE... SYSTEMS HILARIOUSLY OVERLOADED!!* 😂😂\n"
     ]
    }
   ],
   "source": [
    "await main()"
   ]
  }
 ],
 "metadata": {
  "kernelspec": {
   "display_name": ".venv",
   "language": "python",
   "name": "python3"
  },
  "language_info": {
   "codemirror_mode": {
    "name": "ipython",
    "version": 3
   },
   "file_extension": ".py",
   "mimetype": "text/x-python",
   "name": "python",
   "nbconvert_exporter": "python",
   "pygments_lexer": "ipython3",
   "version": "3.13.9"
  }
 },
 "nbformat": 4,
 "nbformat_minor": 5
}
