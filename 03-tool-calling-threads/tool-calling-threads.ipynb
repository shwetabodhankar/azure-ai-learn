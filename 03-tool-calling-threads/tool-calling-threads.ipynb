{
 "cells": [
  {
   "cell_type": "markdown",
   "id": "ce36166a",
   "metadata": {},
   "source": [
    "# Tool Calling with Agents and using Threads\n",
    "\n",
    "In this sample we will be creating agents and use a tool (function) to provide answers to questions. We will also be creating a thread and then doing a follow-up with the agent to ask for more information.\n",
    "\n",
    "You should have the following two environment variables already created and initialized:\n",
    "\n",
    "* `AZURE_AI_PROJECT_ENDPOINT`: Your Azure AI project endpoint\n",
    "* `AZURE_AI_MODEL_DEPLOYMENT_NAME`: The name of your model deployment"
   ]
  },
  {
   "cell_type": "code",
   "execution_count": 2,
   "id": "760c4d33",
   "metadata": {},
   "outputs": [
    {
     "name": "stdout",
     "output_type": "stream",
     "text": [
      "Project endpoint: https://aifoundryaveva.services.ai.azure.com/api/projects/firstProject\n",
      "Deployment name: gpt-4o\n"
     ]
    }
   ],
   "source": [
    "import asyncio\n",
    "import os\n",
    "from random import randint\n",
    "from agent_framework import ChatAgent\n",
    "from agent_framework.azure import AzureAIAgentClient\n",
    "from azure.identity.aio import AzureCliCredential\n",
    "\n",
    "project_endpoint = os.environ.get('AZURE_AI_PROJECT_ENDPOINT')\n",
    "model_name = os.environ.get('AZURE_AI_MODEL_DEPLOYMENT_NAME')\n",
    "\n",
    "print(f\"Project endpoint: {project_endpoint}\")\n",
    "print(f\"Deployment name: {model_name}\")"
   ]
  },
  {
   "cell_type": "code",
   "execution_count": 3,
   "id": "0cd573cf",
   "metadata": {},
   "outputs": [],
   "source": [
    "# 🎲 Tool Function: Random Destination Generator\n",
    "# This function will be available to the agent as a tool\n",
    "# The agent can call this function to get random vacation destinations\n",
    "def get_random_destination() -> str:\n",
    "    \"\"\"Get a random vacation destination.\n",
    "    \n",
    "    Returns:\n",
    "        str: A randomly selected destination from our predefined list\n",
    "    \"\"\"\n",
    "    # List of popular vacation destinations around the world\n",
    "    destinations = [\n",
    "        \"Rome\", \"Italy\",\n",
    "        \"Barcelona, Spain\",\n",
    "        \"Paris, France\", \n",
    "        \"Berlin, Germany\",\n",
    "        \"Tokyo, Japan\",\n",
    "        \"Sydney, Australia\",\n",
    "        \"New York, USA\",\n",
    "        \"Cairo, Egypt\",\n",
    "        \"Cape Town, South Africa\",\n",
    "        \"Rio de Janeiro, Brazil\",\n",
    "        \"Bali, Indonesia\"\n",
    "    ]\n",
    "    # Return a random destination from the list\n",
    "    return destinations[randint(0, len(destinations) - 1)]"
   ]
  },
  {
   "cell_type": "code",
   "execution_count": 4,
   "id": "b1251da9",
   "metadata": {},
   "outputs": [],
   "source": [
    "async def main():\n",
    "    credential = AzureCliCredential()\n",
    "    chat_client = AzureAIAgentClient(async_credential=credential)\n",
    "    agent = ChatAgent(chat_client, name=\"Vacation Planner\",\n",
    "                instructions=\"You are a helpful AI Agent that can help plan vacations for customers at random destinations.\",\n",
    "                tools=[get_random_destination]\n",
    "            )\n",
    "                                                             \n",
    "    thread = agent.get_new_thread()\n",
    "    result = await agent.run(\"Please plan a trip for me\", thread=thread)\n",
    "    print(result.text)\n",
    "\n",
    "    second_result = await agent.run(\"I do not like that destination. Please plan another vacation for me\", thread=thread)\n",
    "    print(second_result.text)\n",
    "\n",
    "    await chat_client.close()\n",
    "    "
   ]
  },
  {
   "cell_type": "code",
   "execution_count": 5,
   "id": "dfba3119",
   "metadata": {},
   "outputs": [
    {
     "name": "stderr",
     "output_type": "stream",
     "text": [
      "[2025-10-28 00:50:45 - c:\\Aveva\\Samples\\azure-ai-learn\\.venv\\Lib\\site-packages\\agent_framework\\_clients.py:609 - WARNING] When conversation_id is set, store must be True for service-managed threads. Automatically setting store=True.\n",
      "[2025-10-28 00:50:53 - c:\\Aveva\\Samples\\azure-ai-learn\\.venv\\Lib\\site-packages\\agent_framework\\_clients.py:609 - WARNING] When conversation_id is set, store must be True for service-managed threads. Automatically setting store=True.\n"
     ]
    },
    {
     "name": "stdout",
     "output_type": "stream",
     "text": [
      "Let's plan an exciting trip to Sydney, Australia! Here's an outline to get you started:\n",
      "\n",
      "---\n",
      "\n",
      "### Trip to Sydney, Australia\n",
      "\n",
      "**Duration:** Let's decide on how many days you wish to spend there (e.g., 5, 7, or more days).\n",
      "\n",
      "---\n",
      "\n",
      "### Day 1: Arrival & Explore the City\n",
      "- **Morning:** Arrive at Sydney Airport and check into your hotel.\n",
      "- **Afternoon:** Stroll around Circular Quay, visit the iconic Sydney Opera House, and take a walk in the Royal Botanic Gardens.\n",
      "- **Evening:** Have dinner at a waterfront restaurant with views of Sydney Harbour Bridge.\n",
      "\n",
      "---\n",
      "\n",
      "### Day 2: Beach Day & Coastal Walk\n",
      "- Visit **Bondi Beach** for sunbathing or surfing.\n",
      "- Take the **Bondi to Coogee Coastal Walk** for breathtaking ocean views.\n",
      "- End the day with delicious seafood at a local beachside café.\n",
      "\n",
      "---\n",
      "\n",
      "### Day 3: Blue Mountains Adventure\n",
      "- Join a day tour to the **Blue Mountains**, a UNESCO World Heritage Site.\n",
      "- Enjoy scenic views at **Echo Point** and see the famous **Three Sisters** rock formation.\n",
      "- Take a ride on the **Scenic Railway** or the **Cableway**.\n",
      "\n",
      "---\n",
      "\n",
      "### Day 4: Wildlife & Local Markets\n",
      "- Visit **Taronga Zoo** to see Australian wildlife, including kangaroos and koalas.\n",
      "- Head to **The Rocks Markets** in the afternoon for shopping and local food.\n",
      "\n",
      "---\n",
      "\n",
      "### Day 5: Harbour Cruise & Manly Beach\n",
      "- Take a **Sydney Harbour Cruise** to enjoy views of the Opera House and Harbour Bridge from the water.\n",
      "- Spend the afternoon at **Manly Beach**, accessible by ferry from Circular Quay.\n",
      "\n",
      "---\n",
      "\n",
      "### Day 6: Culture & History\n",
      "- Explore **Darling Harbour**, including attractions like the SEA LIFE Sydney Aquarium.\n",
      "- Visit **Hyde Park** and the nearby **Australian Museum**.\n",
      "- In the evening, check out the vibrant dining scene at **Chinatown**.\n",
      "\n",
      "---\n",
      "\n",
      "### Day 7: Departure\n",
      "- Enjoy a relaxed morning exploring any missed spots or shopping for souvenirs.\n",
      "- Transfer to the airport for your journey home.\n",
      "\n",
      "---\n",
      "\n",
      "Would you like me to help with the details, such as finding accommodations, transportation, or specific attractions to include in your itinerary?\n"
     ]
    },
    {
     "name": "stderr",
     "output_type": "stream",
     "text": [
      "[2025-10-28 00:50:55 - c:\\Aveva\\Samples\\azure-ai-learn\\.venv\\Lib\\site-packages\\agent_framework\\_clients.py:609 - WARNING] When conversation_id is set, store must be True for service-managed threads. Automatically setting store=True.\n"
     ]
    },
    {
     "name": "stdout",
     "output_type": "stream",
     "text": [
      "How about an incredible trip to Rome, Italy? Let me plan it for you:\n",
      "\n",
      "---\n",
      "\n",
      "### Trip to Rome, Italy\n",
      "\n",
      "**Duration:** Decide on how long you'd like to stay in the Eternal City (e.g., 5 to 7 days).\n",
      "\n",
      "---\n",
      "\n",
      "### Day 1: Arrival & Introduction to Rome\n",
      "- **Morning:** Arrive at Leonardo da Vinci–Fiumicino Airport and check into your hotel.\n",
      "- **Afternoon:** Take a leisurely walk through **Piazza Navona** and marvel at its fountains and street artists.\n",
      "- **Evening:** Enjoy a traditional Italian dinner at a trattoria and sample authentic pasta dishes like Carbonara or Cacio e Pepe.\n",
      "\n",
      "---\n",
      "\n",
      "### Day 2: Ancient Rome\n",
      "- **Morning:** Explore the iconic **Colosseum**, a marvel of ancient Roman engineering.\n",
      "- **Afternoon:** Walk through the **Roman Forum** and climb up **Palatine Hill**.\n",
      "- **Evening:** Discover the city's vibrant nightlife around the **Monti** district.\n",
      "\n",
      "---\n",
      "\n",
      "### Day 3: Vatican City\n",
      "- **Morning:** Visit **St. Peter's Basilica** and climb to the dome for a panoramic view of Rome.\n",
      "- **Afternoon:** Tour the **Vatican Museums**, including the incredible **Sistine Chapel** painted by Michelangelo.\n",
      "- **Evening:** Relax at your hotel or enjoy gelato at **Piazza San Pietro**.\n",
      "\n",
      "---\n",
      "\n",
      "### Day 4: Hidden Gems & Foodies' Delight\n",
      "- **Morning:** Stroll through **Trastevere**, a charming neighborhood with cobblestone streets and ivy-covered buildings.\n",
      "- **Afternoon:** Visit **Campo de' Fiori**, a lively marketplace ideal for lunch and food shopping.\n",
      "- **Evening:** Take a pasta-making or pizza-making class with a local chef.\n",
      "\n",
      "---\n",
      "\n",
      "### Day 5: Highlights of Renaissance Art\n",
      "- Spend the day discovering masterpieces at the **Galleria Borghese**, surrounded by lush gardens.\n",
      "- Visit **Piazza di Spagna** and climb the Spanish Steps, then people-watch while sipping coffee.\n",
      "- End the day soaking in the atmosphere of **Trevi Fountain**, tossing a coin to ensure your return to Rome.\n",
      "\n",
      "---\n",
      "\n",
      "### Day 6: Shopping & Relaxation\n",
      "- Shop along **Via del Corso** or explore luxury designers on **Via Condotti**.\n",
      "- If you'd like to relax, head to **Villa Borghese Gardens** to enjoy a picnic and paddle boats.\n",
      "\n",
      "---\n",
      "\n",
      "### Day 7: Departure\n",
      "- Enjoy a final Italian espresso and pastel-color morning view.\n",
      "- Transfer to the airport for your journey home.\n",
      "\n",
      "---\n",
      "\n",
      "Would you like help organizing the flight, hotel bookings, or adding more details like dining recommendations? Or let me know if you'd prefer yet another destination!\n"
     ]
    }
   ],
   "source": [
    "await main()"
   ]
  }
 ],
 "metadata": {
  "kernelspec": {
   "display_name": ".venv",
   "language": "python",
   "name": "python3"
  },
  "language_info": {
   "codemirror_mode": {
    "name": "ipython",
    "version": 3
   },
   "file_extension": ".py",
   "mimetype": "text/x-python",
   "name": "python",
   "nbconvert_exporter": "python",
   "pygments_lexer": "ipython3",
   "version": "3.13.9"
  }
 },
 "nbformat": 4,
 "nbformat_minor": 5
}
