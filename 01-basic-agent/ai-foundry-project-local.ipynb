{
 "cells": [
  {
   "cell_type": "markdown",
   "id": "293745c7",
   "metadata": {},
   "source": [
    "# Basic agent\n",
    "We will create a simple agent that authenticates using your Azure Credentials. \n",
    "\n",
    "You should have the following two environment variables already created and initialized:\n",
    "\n",
    "* `AZURE_AI_PROJECT_ENDPOINT`: Your Azure AI project endpoint\n",
    "* `AZURE_AI_MODEL_DEPLOYMENT_NAME`: The name of your model deployment"
   ]
  },
  {
   "cell_type": "code",
   "execution_count": 1,
   "id": "f183ed56",
   "metadata": {},
   "outputs": [
    {
     "name": "stdout",
     "output_type": "stream",
     "text": [
      "Project endpoint: https://aifoundryaveva.services.ai.azure.com/api/projects/firstProject\n",
      "Deployment name: gpt-4o\n"
     ]
    }
   ],
   "source": [
    "import asyncio\n",
    "import os\n",
    "from agent_framework import ChatAgent, ChatMessage, TextContent, DataContent, Role\n",
    "from agent_framework.azure import AzureOpenAIChatClient\n",
    "from azure.identity.aio import AzureCliCredential\n",
    "from dotenv import load_dotenv\n",
    "\n",
    "load_dotenv()\n",
    "project_endpoint = os.getenv('AZURE_AI_PROJECT_ENDPOINT')\n",
    "model_name = os.getenv('AZURE_AI_MODEL_DEPLOYMENT_NAME')\n",
    "\n",
    "print(f\"Project endpoint: {project_endpoint}\")\n",
    "print(f\"Deployment name: {model_name}\")\n",
    "\n",
    "# Load image from local file\n",
    "with open(\"test.png\", \"rb\") as f:\n",
    "    image_bytes = f.read()\n",
    "\n",
    "message = ChatMessage(\n",
    "    role=Role.USER,\n",
    "    contents=[\n",
    "        TextContent(text=\"What do you see in this image?\"),\n",
    "        DataContent(\n",
    "            data=image_bytes,\n",
    "            media_type=\"image/jpeg\"\n",
    "        )\n",
    "    ]\n",
    ")"
   ]
  },
  {
   "cell_type": "code",
   "execution_count": 2,
   "id": "dfaf4ed7",
   "metadata": {},
   "outputs": [],
   "source": [
    "async def main():\n",
    "    async with (\n",
    "        AzureCliCredential() as credential,\n",
    "        ChatAgent(\n",
    "            chat_client=AzureOpenAIChatClient(async_credential=credential),\n",
    "            instructions=\"You are good at telling jokes.\",\n",
    "        ) as agent,\n",
    "    ):\n",
    "        result = await agent.run(message)\n",
    "        print(result.text) "
   ]
  },
  {
   "cell_type": "code",
   "execution_count": 3,
   "id": "9451f043",
   "metadata": {},
   "outputs": [
    {
     "name": "stdout",
     "output_type": "stream",
     "text": [
      "This is an illustration of a cozy house with a yellow facade, blue window shutters, a brown door, and a chimney. It's surrounded by greenery, including a couple of bushes and a tree, on a grassy lawn. The background features a blue sky with fluffy white clouds. It looks like a peaceful, charming home in a nice setting!\n"
     ]
    }
   ],
   "source": [
    "# In Jupyter, we can await directly\n",
    "await main()"
   ]
  }
 ],
 "metadata": {
  "kernelspec": {
   "display_name": ".venv",
   "language": "python",
   "name": "python3"
  },
  "language_info": {
   "codemirror_mode": {
    "name": "ipython",
    "version": 3
   },
   "file_extension": ".py",
   "mimetype": "text/x-python",
   "name": "python",
   "nbconvert_exporter": "python",
   "pygments_lexer": "ipython3",
   "version": "3.13.9"
  }
 },
 "nbformat": 4,
 "nbformat_minor": 5
}
