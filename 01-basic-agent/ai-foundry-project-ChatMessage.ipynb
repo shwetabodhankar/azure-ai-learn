{
 "cells": [
  {
   "cell_type": "markdown",
   "id": "293745c7",
   "metadata": {},
   "source": [
    "# Basic agent\n",
    "We will create a simple agent that authenticates using your Azure Credentials. \n",
    "\n",
    "You should have the following two environment variables already created and initialized:\n",
    "\n",
    "* `AZURE_AI_PROJECT_ENDPOINT`: Your Azure AI project endpoint\n",
    "* `AZURE_AI_MODEL_DEPLOYMENT_NAME`: The name of your model deployment"
   ]
  },
  {
   "cell_type": "code",
   "execution_count": 18,
   "id": "f183ed56",
   "metadata": {},
   "outputs": [
    {
     "name": "stdout",
     "output_type": "stream",
     "text": [
      "Project endpoint: https://aifoundryaveva.services.ai.azure.com/api/projects/firstProject\n",
      "Deployment name: gpt-4o\n"
     ]
    }
   ],
   "source": [
    "import asyncio\n",
    "import os\n",
    "from agent_framework import ChatAgent, ChatMessage, TextContent, UriContent, Role\n",
    "from agent_framework.azure import AzureOpenAIChatClient\n",
    "from azure.identity.aio import AzureCliCredential\n",
    "from dotenv import load_dotenv\n",
    "\n",
    "load_dotenv()\n",
    "project_endpoint = os.getenv('AZURE_AI_PROJECT_ENDPOINT')\n",
    "model_name = os.getenv('AZURE_AI_MODEL_DEPLOYMENT_NAME')\n",
    "\n",
    "print(f\"Project endpoint: {project_endpoint}\")\n",
    "print(f\"Deployment name: {model_name}\")\n",
    "\n",
    "# Using a valid, publicly accessible image URL\n",
    "message = ChatMessage(\n",
    "    role=Role.USER,\n",
    "    contents=[\n",
    "        TextContent(text=\"Tell me a joke about this image?\"),\n",
    "        UriContent(uri=\"https://wallpapers.com/images/hd/funny-clown-pictures-cz1gds4numoyluy0.jpg\", media_type=\"image/jpeg\")\n",
    "    ]\n",
    ")"
   ]
  },
  {
   "cell_type": "code",
   "execution_count": 19,
   "id": "dfaf4ed7",
   "metadata": {},
   "outputs": [],
   "source": [
    "async def main():\n",
    "    async with (\n",
    "        AzureCliCredential() as credential,\n",
    "        ChatAgent(\n",
    "            chat_client=AzureOpenAIChatClient(async_credential=credential),\n",
    "            instructions=\"You are good at telling jokes.\",\n",
    "        ) as agent,\n",
    "    ):\n",
    "        result = await agent.run(message)\n",
    "        print(result.text) "
   ]
  },
  {
   "cell_type": "code",
   "execution_count": 20,
   "id": "9451f043",
   "metadata": {},
   "outputs": [
    {
     "name": "stdout",
     "output_type": "stream",
     "text": [
      "Why don’t clowns ever get stressed?  \n",
      "\n",
      "Because they’re always juggling their problems—and their noses bounce back no matter what! 🎪🤡\n"
     ]
    }
   ],
   "source": [
    "# In Jupyter, we can await directly\n",
    "await main()"
   ]
  }
 ],
 "metadata": {
  "kernelspec": {
   "display_name": ".venv",
   "language": "python",
   "name": "python3"
  },
  "language_info": {
   "codemirror_mode": {
    "name": "ipython",
    "version": 3
   },
   "file_extension": ".py",
   "mimetype": "text/x-python",
   "name": "python",
   "nbconvert_exporter": "python",
   "pygments_lexer": "ipython3",
   "version": "3.13.9"
  }
 },
 "nbformat": 4,
 "nbformat_minor": 5
}
