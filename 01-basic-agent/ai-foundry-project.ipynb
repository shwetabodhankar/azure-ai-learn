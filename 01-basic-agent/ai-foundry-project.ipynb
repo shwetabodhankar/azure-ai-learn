{
 "cells": [
  {
   "cell_type": "markdown",
   "id": "293745c7",
   "metadata": {},
   "source": [
    "# Basic agent\n",
    "We will create a simple agent that authenticates using your Azure Credentials. \n",
    "\n",
    "You should have the following two environment variables already created and initialized:\n",
    "\n",
    "* `AZURE_AI_PROJECT_ENDPOINT`: Your Azure AI project endpoint\n",
    "* `AZURE_AI_MODEL_DEPLOYMENT_NAME`: The name of your model deployment"
   ]
  },
  {
   "cell_type": "code",
   "execution_count": 1,
   "id": "f183ed56",
   "metadata": {},
   "outputs": [
    {
     "name": "stdout",
     "output_type": "stream",
     "text": [
      "Project endpoint: https://aifoundryaveva.services.ai.azure.com/api/projects/firstProject\n",
      "Deployment name: gpt-4o\n"
     ]
    }
   ],
   "source": [
    "import asyncio\n",
    "import os\n",
    "from agent_framework import ChatAgent\n",
    "from agent_framework.azure import AzureAIAgentClient\n",
    "from azure.identity.aio import AzureCliCredential\n",
    "from dotenv import load_dotenv\n",
    "\n",
    "load_dotenv()\n",
    "project_endpoint = os.getenv('AZURE_AI_PROJECT_ENDPOINT')\n",
    "model_name = os.getenv('AZURE_AI_MODEL_DEPLOYMENT_NAME')\n",
    "\n",
    "print(f\"Project endpoint: {project_endpoint}\")\n",
    "print(f\"Deployment name: {model_name}\")"
   ]
  },
  {
   "cell_type": "code",
   "execution_count": null,
   "id": "dfaf4ed7",
   "metadata": {},
   "outputs": [],
   "source": [
    "async def main():\n",
    "    async with (\n",
    "        AzureCliCredential() as credential,\n",
    "        ChatAgent(\n",
    "            chat_client=AzureAIAgentClient(async_credential=credential),\n",
    "            instructions=\"You are good at telling jokes.\",\n",
    "        ) as agent,\n",
    "    ):\n",
    "        result = await agent.run(\"Tell me a joke about a pirate.\")\n",
    "        print(result.text)"
   ]
  },
  {
   "cell_type": "code",
   "execution_count": 3,
   "id": "9451f043",
   "metadata": {},
   "outputs": [
    {
     "name": "stdout",
     "output_type": "stream",
     "text": [
      "Sure! Here’s a pirate joke for you:  \n",
      "\n",
      "Why don’t pirates shower before walking the plank?  \n",
      "Because they’ll just wash up on shore later! 🏴‍☠️\n"
     ]
    }
   ],
   "source": [
    "# In Jupyter, we can await directly\n",
    "await main()"
   ]
  },
  {
   "cell_type": "code",
   "execution_count": null,
   "id": "2812bd3a-fad3-4688-8d4d-14df0dca3795",
   "metadata": {},
   "outputs": [],
   "source": []
  },
  {
   "cell_type": "code",
   "execution_count": null,
   "id": "b2529bd8-9c84-4e39-a157-595ac849ceb5",
   "metadata": {},
   "outputs": [],
   "source": []
  }
 ],
 "metadata": {
  "kernelspec": {
   "display_name": ".venv",
   "language": "python",
   "name": "python3"
  },
  "language_info": {
   "codemirror_mode": {
    "name": "ipython",
    "version": 3
   },
   "file_extension": ".py",
   "mimetype": "text/x-python",
   "name": "python",
   "nbconvert_exporter": "python",
   "pygments_lexer": "ipython3",
   "version": "3.13.9"
  }
 },
 "nbformat": 4,
 "nbformat_minor": 5
}
